{
 "cells": [
  {
   "cell_type": "code",
   "execution_count": 1,
   "metadata": {
    "collapsed": true,
    "ExecuteTime": {
     "end_time": "2023-08-22T09:40:34.404561Z",
     "start_time": "2023-08-22T09:40:34.401344Z"
    }
   },
   "outputs": [
    {
     "name": "stdout",
     "output_type": "stream",
     "text": [
      "('/Users/wwhm/Downloads/test', ['abcd', 'abcd1'], ['9.txt', '8.txt', '5.txt', '4.txt', '6.txt', '7.txt', '3.txt', '2.txt', '1.txt'])\n",
      "('/Users/wwhm/Downloads/test/abcd', [], ['15.txt', '14.txt', '16.txt', '17.txt', '13.txt', '12.txt', '11.txt', '20.txt', '19.txt', '18.txt'])\n",
      "('/Users/wwhm/Downloads/test/abcd1', [], [])\n"
     ]
    }
   ],
   "source": [
    "import os\n",
    "\n",
    "for item in os.walk('/Users/wwhm/Downloads/test'):\n",
    "    print(item)\n"
   ]
  },
  {
   "cell_type": "code",
   "execution_count": 9,
   "outputs": [
    {
     "name": "stdout",
     "output_type": "stream",
     "text": [
      "/Users/wwhm/Downloads/test/9.txt\n",
      "/Users/wwhm/Downloads/test/8.txt\n",
      "/Users/wwhm/Downloads/test/5.txt\n",
      "/Users/wwhm/Downloads/test/4.txt\n",
      "/Users/wwhm/Downloads/test/6.txt\n",
      "/Users/wwhm/Downloads/test/7.txt\n",
      "/Users/wwhm/Downloads/test/3.txt\n",
      "/Users/wwhm/Downloads/test/2.txt\n",
      "/Users/wwhm/Downloads/test/1.txt\n",
      "/Users/wwhm/Downloads/test/abcd/15.txt\n",
      "/Users/wwhm/Downloads/test/abcd/14.txt\n",
      "/Users/wwhm/Downloads/test/abcd/16.txt\n",
      "/Users/wwhm/Downloads/test/abcd/17.txt\n",
      "/Users/wwhm/Downloads/test/abcd/13.txt\n",
      "/Users/wwhm/Downloads/test/abcd/12.txt\n",
      "/Users/wwhm/Downloads/test/abcd/11.txt\n",
      "/Users/wwhm/Downloads/test/abcd/20.txt\n",
      "/Users/wwhm/Downloads/test/abcd/19.txt\n",
      "/Users/wwhm/Downloads/test/abcd/18.txt\n"
     ]
    }
   ],
   "source": [
    "for item, item1, item2 in os.walk('/Users/wwhm/Downloads/test'):\n",
    "    for name in item2:\n",
    "        print(os.path.join(item, name))"
   ],
   "metadata": {
    "collapsed": false,
    "ExecuteTime": {
     "end_time": "2023-08-22T09:44:02.907684Z",
     "start_time": "2023-08-22T09:44:02.904606Z"
    }
   }
  },
  {
   "cell_type": "code",
   "execution_count": 10,
   "outputs": [
    {
     "name": "stdout",
     "output_type": "stream",
     "text": [
      "9.txt\n",
      "8.txt\n",
      "5.txt\n",
      "4.txt\n",
      "6.txt\n",
      "abcd\n",
      "7.txt\n",
      "3.txt\n",
      "2.txt\n",
      "1.txt\n",
      "abcd1\n"
     ]
    }
   ],
   "source": [
    "for item in os.listdir(\"/Users/wwhm/Downloads/test\"):\n",
    "    print(item)"
   ],
   "metadata": {
    "collapsed": false,
    "ExecuteTime": {
     "end_time": "2023-08-22T09:45:28.845898Z",
     "start_time": "2023-08-22T09:45:28.843864Z"
    }
   }
  },
  {
   "cell_type": "code",
   "execution_count": 18,
   "outputs": [
    {
     "name": "stdout",
     "output_type": "stream",
     "text": [
      "glm.py\n",
      "True\n",
      ".DS_Store\n",
      "True\n",
      "excelSheet1.py\n",
      "True\n",
      "excelSheet.py\n",
      "True\n",
      "pdf.py\n",
      "True\n",
      "music.py\n",
      "True\n",
      "main.py\n",
      "True\n",
      "result.xlsx\n",
      "True\n",
      "test.ipynb\n",
      "True\n",
      "test_os.ipynb\n",
      "True\n",
      "glm.ipynb\n",
      "True\n",
      "mergeExcel.py\n",
      "True\n",
      ".idea\n",
      "False\n",
      "face.py\n",
      "True\n",
      "['glm.py', '.DS_Store', 'excelSheet1.py', 'excelSheet.py', 'pdf.py', 'music.py', 'main.py', 'result.xlsx', 'test.ipynb', 'test_os.ipynb', 'glm.ipynb', 'mergeExcel.py', 'face.py']\n"
     ]
    }
   ],
   "source": [
    "list_directory = os.listdir(\".\")\n",
    "fileLists = []\n",
    "for directory in list_directory:\n",
    "    print(directory)\n",
    "    print(os.path.isfile(directory))\n",
    "    if os.path.isfile(directory):\n",
    "        fileLists.append(directory)\n",
    "print(fileLists)"
   ],
   "metadata": {
    "collapsed": false,
    "ExecuteTime": {
     "end_time": "2023-08-22T09:51:44.041844Z",
     "start_time": "2023-08-22T09:51:44.039010Z"
    }
   }
  },
  {
   "cell_type": "code",
   "execution_count": 20,
   "outputs": [
    {
     "ename": "FileExistsError",
     "evalue": "[Errno 17] File exists: '/Users/wwhm/Downloads/test/1234'",
     "output_type": "error",
     "traceback": [
      "\u001B[0;31m---------------------------------------------------------------------------\u001B[0m",
      "\u001B[0;31mFileExistsError\u001B[0m                           Traceback (most recent call last)",
      "Cell \u001B[0;32mIn[20], line 1\u001B[0m\n\u001B[0;32m----> 1\u001B[0m \u001B[43mos\u001B[49m\u001B[38;5;241;43m.\u001B[39;49m\u001B[43mmkdir\u001B[49m\u001B[43m(\u001B[49m\u001B[38;5;124;43m'\u001B[39;49m\u001B[38;5;124;43m/Users/wwhm/Downloads/test/1234\u001B[39;49m\u001B[38;5;124;43m'\u001B[39;49m\u001B[43m)\u001B[49m\n",
      "\u001B[0;31mFileExistsError\u001B[0m: [Errno 17] File exists: '/Users/wwhm/Downloads/test/1234'"
     ]
    }
   ],
   "source": [
    "os.mkdir('/Users/wwhm/Downloads/test/1234')"
   ],
   "metadata": {
    "collapsed": false,
    "ExecuteTime": {
     "end_time": "2023-08-22T09:57:59.905450Z",
     "start_time": "2023-08-22T09:57:59.644404Z"
    }
   }
  },
  {
   "cell_type": "code",
   "execution_count": null,
   "outputs": [],
   "source": [
    "os.path.exists(\"/Users/wwhm/Downloads/test/1234\")"
   ],
   "metadata": {
    "collapsed": false
   }
  },
  {
   "cell_type": "code",
   "execution_count": 23,
   "outputs": [],
   "source": [
    "os.makedirs('/Users/wwhm/Downloads/test/1234/33/3/4/5')"
   ],
   "metadata": {
    "collapsed": false,
    "ExecuteTime": {
     "end_time": "2023-08-22T09:59:53.155118Z",
     "start_time": "2023-08-22T09:59:53.153122Z"
    }
   }
  },
  {
   "cell_type": "code",
   "execution_count": 21,
   "outputs": [
    {
     "ename": "PermissionError",
     "evalue": "[Errno 1] Operation not permitted: '/Users/wwhm/Downloads/test/1234'",
     "output_type": "error",
     "traceback": [
      "\u001B[0;31m---------------------------------------------------------------------------\u001B[0m",
      "\u001B[0;31mPermissionError\u001B[0m                           Traceback (most recent call last)",
      "Cell \u001B[0;32mIn[21], line 1\u001B[0m\n\u001B[0;32m----> 1\u001B[0m \u001B[43mos\u001B[49m\u001B[38;5;241;43m.\u001B[39;49m\u001B[43mremove\u001B[49m\u001B[43m(\u001B[49m\u001B[38;5;124;43m'\u001B[39;49m\u001B[38;5;124;43m/Users/wwhm/Downloads/test/1234\u001B[39;49m\u001B[38;5;124;43m'\u001B[39;49m\u001B[43m)\u001B[49m\n",
      "\u001B[0;31mPermissionError\u001B[0m: [Errno 1] Operation not permitted: '/Users/wwhm/Downloads/test/1234'"
     ]
    }
   ],
   "source": [
    "os.remove('/Users/wwhm/Downloads/test/1234')"
   ],
   "metadata": {
    "collapsed": false,
    "ExecuteTime": {
     "end_time": "2023-08-22T09:58:09.955399Z",
     "start_time": "2023-08-22T09:58:09.949323Z"
    }
   }
  },
  {
   "cell_type": "code",
   "execution_count": 22,
   "outputs": [],
   "source": [
    "os.rmdir('/Users/wwhm/Downloads/test/1234')"
   ],
   "metadata": {
    "collapsed": false,
    "ExecuteTime": {
     "end_time": "2023-08-22T09:59:09.653820Z",
     "start_time": "2023-08-22T09:59:09.651042Z"
    }
   }
  },
  {
   "cell_type": "code",
   "execution_count": 24,
   "outputs": [],
   "source": [
    "os.removedirs('/Users/wwhm/Downloads/test/1234/33/3/4/5')"
   ],
   "metadata": {
    "collapsed": false,
    "ExecuteTime": {
     "end_time": "2023-08-22T10:00:13.586790Z",
     "start_time": "2023-08-22T10:00:13.585103Z"
    }
   }
  },
  {
   "cell_type": "code",
   "execution_count": null,
   "outputs": [],
   "source": [],
   "metadata": {
    "collapsed": false
   }
  }
 ],
 "metadata": {
  "kernelspec": {
   "display_name": "Python 3",
   "language": "python",
   "name": "python3"
  },
  "language_info": {
   "codemirror_mode": {
    "name": "ipython",
    "version": 2
   },
   "file_extension": ".py",
   "mimetype": "text/x-python",
   "name": "python",
   "nbconvert_exporter": "python",
   "pygments_lexer": "ipython2",
   "version": "2.7.6"
  }
 },
 "nbformat": 4,
 "nbformat_minor": 0
}
